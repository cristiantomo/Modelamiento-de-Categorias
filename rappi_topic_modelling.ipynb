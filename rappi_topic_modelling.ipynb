{
 "cells": [
  {
   "cell_type": "markdown",
   "metadata": {},
   "source": [
    "# Modelamiento de categorías con el método \"Asignación Latente de Dirichlet\" para las opiniones de los usuarios de una aplicación móvil"
   ]
  },
  {
   "cell_type": "markdown",
   "metadata": {},
   "source": [
    "Las opiniones y calificaciones que los usuarios dan a los productos digitales son una fuente importante de información para sus desarrolladores, ya que permiten identificar elementos que se deben mejorar para favorecer la adopción y retención de nuevos usuarios. Sin embargo, a medida que la cantidad de opiniones de usuarios incrementa, se hace más dificil clasificar los temas en torno a los cuales giran las oportunidades de mejora. Si esta tarea se hiciera manualmente, asumiendo un tiempo promedio de treinta segundos por opinión, se requeriría un poco más de ocho horas de trabajo para la revisión de mil opiniones. \n",
    "\n",
    "En el presente trabajo se presentan los resultados de aplicar una técnica no supervisada de Procesamiento del Lenguaje Natural para identificar los principales temas contenidos en más trece mil opiniones de usuarios de una aplicación móvil. Primero, se presenta el conjunto de datos utilizado, obtenidos a través de un proceso de \"scraping\" del sitio web GooglePlay. Seguidamente, se realiza una limpieza y preprocesamiento de los datos para encontrar las palabras más relevantes para la solución del problema. Posteriormente, se implementa un modelo conocido como \"Asignación Latente de Dirichlet\" para la identificación de los temas contenidos en las opiniones de los usuarios. Por último, se presentan los resultados y se hacen recomendaciones prácticas sobre el proceso de sintonización (tuning) del modelo."
   ]
  },
  {
   "cell_type": "markdown",
   "metadata": {},
   "source": [
    "## 1. Librerías utilizadas"
   ]
  },
  {
   "cell_type": "markdown",
   "metadata": {},
   "source": [
    "En adición a las librerías típicamente utilizadas para el procesamiento y visualización de datos (Pandas, Seaborn y Matplotlib), se utilizaron las bibliotecas NLTK (Natural Language Toolkit) y Spacy para las tareas de limpieza y pre-procesamiento del lenguaje natural, y la librería BeautifulSoup para el \"scraping\" de datos. Por su parte, la librería Gensim fue utilizada para la implementación del modelo de Asignación Latente de Dirichlet (ALD), encargado de hacer el modelamiento de los temas contenidos en el conjunto de datos. Todas las librerías utilizadas hacen parte de proyectos de código abierto."
   ]
  },
  {
   "cell_type": "markdown",
   "metadata": {},
   "source": [
    "#### Código:"
   ]
  },
  {
   "cell_type": "code",
   "execution_count": 32,
   "metadata": {},
   "outputs": [],
   "source": [
    "# Librerías para procesamiento y visualización de datos\n",
    "import pandas as pd\n",
    "import seaborn as sns\n",
    "import matplotlib.pyplot as plt\n",
    "\n",
    "# Librería usada para hacer \"scraping\" de páginas web en formato HTML\n",
    "from bs4 import BeautifulSoup\n",
    "\n",
    "# Librerías para limpieza y pre-procesamiento del lenguaje natural\n",
    "import nltk\n",
    "from nltk.corpus import stopwords\n",
    "import string\n",
    "import unidecode\n",
    "\n",
    "# Librería para el \"Etiquetado Gramatical\" y la \"Lematización\" de los datos\n",
    "# ( Part-of-speech tagging (POS), Lemmatization )\n",
    "import spacy\n",
    "import es_core_news_sm\n",
    "\n",
    "# Librería usada el \"Modelado de Temas\" mediante la \"Asignación Latente de Dirichlet\" \n",
    "# ( Topic Modelling-Latent Dirichlet Allocation (LDA) )\n",
    "import gensim\n",
    "from gensim import corpora"
   ]
  },
  {
   "cell_type": "markdown",
   "metadata": {},
   "source": [
    "## 2. Conjunto datos"
   ]
  },
  {
   "cell_type": "markdown",
   "metadata": {},
   "source": [
    "Los datos fueron obtenidos mediante un proceso de \"scraping\" del sitio web GooglePlay. Corresponden a opiniones de los usuarios de la aplicación Android de Rappi, calificadas con una y dos estrellas. Se utilizan opiniones con baja calificación asumiendo que son las que contienen más información sobre elementos para mejorar en el producto. En total, el conjunto de datos contiene 13558 opiniones."
   ]
  },
  {
   "cell_type": "markdown",
   "metadata": {},
   "source": [
    "#### Código:"
   ]
  },
  {
   "cell_type": "markdown",
   "metadata": {},
   "source": [
    "Funciones de ayuda para el \"scraping\" de datos:"
   ]
  },
  {
   "cell_type": "code",
   "execution_count": 24,
   "metadata": {},
   "outputs": [],
   "source": [
    "def load_soup(page_path):\n",
    "    \n",
    "    ''' Retorna un objeto \"BeautifulSoup\" que contiene la información de la página web de \n",
    "        trabajo y con el cual se realiza el \"scraping\" de las opiniones de los usuarios '''\n",
    "    \n",
    "    file_name = page_path\n",
    "    with open(file_name) as f:\n",
    "        return BeautifulSoup(f, 'html.parser')\n",
    "\n",
    "\n",
    "def scrape_reviews(soup):    \n",
    "    \n",
    "    ''' Retorna una lista con las opiniones de los usuarios presentes en la página web de trabajo '''\n",
    "    \n",
    "    # Tag que contiene todas las opiniones de usuarios presentes en la página web\n",
    "    tags = soup.find_all(\"div\", {\"class\": \"UD7Dzf\"})\n",
    "    reviews = []\n",
    "    for tag in tags:\n",
    "        # Opiniones largas, obtenidas después de presionar el botón \"Ver opinión completa\"\n",
    "        review = tag.find('span',{\"jsname\":\"fbQN7e\"}).getText()\n",
    "        if review == '':\n",
    "            # Opiniones cortas que no requieren el botón \"Ver opinión completa\"\n",
    "            review = tag.find('span',{\"jsname\":\"bN97Pc\"}).getText()\n",
    "        reviews.append(review)\n",
    "    return reviews"
   ]
  },
  {
   "cell_type": "markdown",
   "metadata": {},
   "source": [
    "Extracción de opiniones:"
   ]
  },
  {
   "cell_type": "code",
   "execution_count": 25,
   "metadata": {},
   "outputs": [],
   "source": [
    "# Extrae las opiniones calificadas con una estrella. \n",
    "# La página web está guardada localmente en formato html\n",
    "one_star_html_path = 'data/web_pages/rappi/one_star/rappi_one_star.html'\n",
    "one_star_soup = load_soup(one_star_html_path)\n",
    "one_star_reviews = scrape_reviews(one_star_soup)\n",
    "\n",
    "# Extrae las opiniones calificadas con dos estrellas\n",
    "# La página web está guardada localmente en formato html\n",
    "two_star_html_path = 'data/web_pages/rappi/two_star/rappi_two_star.html'\n",
    "two_star_soup = load_soup(two_star_html_path)\n",
    "two_star_reviews = scrape_reviews(two_star_soup)\n",
    "\n",
    "# Exporta todas las opiniones a un archivo csv\n",
    "all_reviews = one_star_reviews + two_star_reviews\n",
    "df_reviews = pd.DataFrame(all_reviews, columns=['review'])\n",
    "df_reviews.to_csv('data/web_pages/rappi/rappi_reviews.csv', index=False)"
   ]
  },
  {
   "cell_type": "markdown",
   "metadata": {},
   "source": [
    "#### Resultados"
   ]
  },
  {
   "cell_type": "code",
   "execution_count": 33,
   "metadata": {},
   "outputs": [],
   "source": [
    "# Carga las opiniones desde archivo csv\n",
    "path = \"data/web_pages/rappi/rappi_reviews.csv\"\n",
    "df = pd.read_csv(path, encoding='utf-8')"
   ]
  },
  {
   "cell_type": "code",
   "execution_count": 34,
   "metadata": {},
   "outputs": [
    {
     "data": {
      "text/html": [
       "<div>\n",
       "<style scoped>\n",
       "    .dataframe tbody tr th:only-of-type {\n",
       "        vertical-align: middle;\n",
       "    }\n",
       "\n",
       "    .dataframe tbody tr th {\n",
       "        vertical-align: top;\n",
       "    }\n",
       "\n",
       "    .dataframe thead th {\n",
       "        text-align: right;\n",
       "    }\n",
       "</style>\n",
       "<table border=\"1\" class=\"dataframe\">\n",
       "  <thead>\n",
       "    <tr style=\"text-align: right;\">\n",
       "      <th></th>\n",
       "      <th>review</th>\n",
       "    </tr>\n",
       "  </thead>\n",
       "  <tbody>\n",
       "    <tr>\n",
       "      <td>0</td>\n",
       "      <td>Ha desmejorado mucho, antes era excelente, aho...</td>\n",
       "    </tr>\n",
       "    <tr>\n",
       "      <td>1</td>\n",
       "      <td>Listo, actualizado y nada, no es mi tarjeta es...</td>\n",
       "    </tr>\n",
       "    <tr>\n",
       "      <td>2</td>\n",
       "      <td>Las promos con tarjeta te las reintegran algun...</td>\n",
       "    </tr>\n",
       "    <tr>\n",
       "      <td>3</td>\n",
       "      <td>Horrible, nunca descarguen esta aplicación. Al...</td>\n",
       "    </tr>\n",
       "    <tr>\n",
       "      <td>4</td>\n",
       "      <td>Edito reseña: soporte es pésimo al fin logre i...</td>\n",
       "    </tr>\n",
       "  </tbody>\n",
       "</table>\n",
       "</div>"
      ],
      "text/plain": [
       "                                              review\n",
       "0  Ha desmejorado mucho, antes era excelente, aho...\n",
       "1  Listo, actualizado y nada, no es mi tarjeta es...\n",
       "2  Las promos con tarjeta te las reintegran algun...\n",
       "3  Horrible, nunca descarguen esta aplicación. Al...\n",
       "4  Edito reseña: soporte es pésimo al fin logre i..."
      ]
     },
     "execution_count": 34,
     "metadata": {},
     "output_type": "execute_result"
    }
   ],
   "source": [
    "# Muestra las primeras cinco opiniones del conjunto de datos\n",
    "df.head()"
   ]
  },
  {
   "cell_type": "code",
   "execution_count": 28,
   "metadata": {},
   "outputs": [
    {
     "data": {
      "text/plain": [
       "(13558, 1)"
      ]
     },
     "execution_count": 28,
     "metadata": {},
     "output_type": "execute_result"
    }
   ],
   "source": [
    "# Muestra la cantidad de opiniones contenidas en el conjunto de datos\n",
    "df.shape"
   ]
  },
  {
   "cell_type": "markdown",
   "metadata": {},
   "source": [
    "## 3. Frecuencias de Tokens (primera iteración)"
   ]
  },
  {
   "cell_type": "markdown",
   "metadata": {},
   "source": [
    "Un token es definido como una secuencia continua de caracteres ubicada entre dos espacios. De esta manera, un token puede ser una palabra, un signo de puntuación, caracteres especiales, etc.  Conocer cuáles son los tokens que se presentan con mayor frecuencia en el conjunto de datos permite tener una idea de los temas en torno a los cuales giran las opiniones de los usuarios.\n",
    "\n",
    "El siguiente código permite mostrar en un gráfico de barras los tokens más frecuentes en el conjunto de datos."
   ]
  },
  {
   "cell_type": "markdown",
   "metadata": {},
   "source": [
    "#### Código:"
   ]
  },
  {
   "cell_type": "markdown",
   "metadata": {},
   "source": [
    "Función de ayuda para graficar los tokens más frecuentes en el conjunto de datos:"
   ]
  },
  {
   "cell_type": "code",
   "execution_count": 35,
   "metadata": {},
   "outputs": [],
   "source": [
    "def plot_top_freq_tokens(data, n=20):\n",
    "    \n",
    "    ''' Grafica los n tokens más frecuentes en conjunto de datos de opiniones de los usuarios '''\n",
    "    \n",
    "    # Obtiene los token más frecuentes\n",
    "    words = ' '.join([word for word in data])\n",
    "    tokenized_words = nltk.word_tokenize(words)\n",
    "    freqDist = nltk.FreqDist(tokenized_words)\n",
    "    top_n_df = pd.DataFrame(freqDist.most_common(n), columns=['Token', 'Recuento'])\n",
    "    \n",
    "    # Muestra los tokens más frecuentes en un gráfico de barras\n",
    "    plt.figure(figsize=(20,6))\n",
    "    ax = sns.barplot(data=top_n_df, x= \"Token\", y = \"Recuento\")\n",
    "    title = 'Frecuencias de los Tokens Contenidos en el Conjunto de Opiniones de Usuarios (Top {})'.format(n)\n",
    "    ax.set(title = title)\n",
    "    ax.set_xticklabels(ax.get_xticklabels(),rotation=90)\n",
    "    plt.show()"
   ]
  },
  {
   "cell_type": "markdown",
   "metadata": {},
   "source": [
    "#### Resultados:"
   ]
  },
  {
   "cell_type": "markdown",
   "metadata": {},
   "source": [
    "El gráfico de barras a continuación muestra los 20 tokens más frecuentes en el conjunto de datos. Estos tokens corresponden en su mayoría a signos de puntuación, artículos, pronombres personales o preposiciones del español. Los tokens mostrados son poco útiles para el modelamiento de temas, ya que no entregan información relevante sobre las necesidades de los usuarios."
   ]
  },
  {
   "cell_type": "code",
   "execution_count": 8,
   "metadata": {
    "scrolled": true
   },
   "outputs": [
    {
     "data": {
      "image/png": "[encoded data removed]",
      "text/plain": [
       "<Figure size 1440x432 with 1 Axes>"
      ]
     },
     "metadata": {
      "needs_background": "light"
     },
     "output_type": "display_data"
    }
   ],
   "source": [
    "plot_top_freq_tokens(df['review'])"
   ]
  },
  {
   "cell_type": "markdown",
   "metadata": {},
   "source": [
    "## 4. Remoción de las palabras de parada, signos de puntuación y palabras cortas"
   ]
  },
  {
   "cell_type": "markdown",
   "metadata": {},
   "source": [
    "En consecuencia con el resultado anterior, el primer paso en el preprocesamiento del conjunto de datos será la eliminación de los tokens que no son relevantes para el problema planteado.\n",
    "\n",
    "En este sentido, a continuación se removerán los siguientes tokens:\n",
    "- **Palabras de parada (stop words):** son las palabras más comunes del idioma. Algunos ejemplos son \"algo\", \"como\", \"cuando\" o \"contra\". Para eliminarlas se utiliza el listado de palabras de parada del español de la librería NLTK.\n",
    "- **Tokens cortos (longitud menor a 3 caracteres)**\n",
    "- **Signos de puntuación**\n",
    "\n",
    "Adicionalmente, se estandarizan todos los tokens en letras minúsculas."
   ]
  },
  {
   "cell_type": "markdown",
   "metadata": {},
   "source": [
    "#### Código:"
   ]
  },
  {
   "cell_type": "markdown",
   "metadata": {},
   "source": [
    "Función de ayuda para remover palabras de parada:"
   ]
  },
  {
   "cell_type": "code",
   "execution_count": 36,
   "metadata": {},
   "outputs": [],
   "source": [
    "def remove_stopwords(review):\n",
    "    \n",
    "    ''' Remueve las palabras de parada una opinión de usuario '''\n",
    "    \n",
    "    return \" \".join([token for token in review if token not in stop_words])"
   ]
  },
  {
   "cell_type": "markdown",
   "metadata": {},
   "source": [
    "Remoción de tokens poco relevantes:"
   ]
  },
  {
   "cell_type": "code",
   "execution_count": 37,
   "metadata": {},
   "outputs": [],
   "source": [
    "# Carga las palabras de parada de la librería NLTK\n",
    "stop_words = stopwords.words('spanish')\n",
    "\n",
    "# Remover los tokens cortos (longitud menor a tres caracteres)\n",
    "df['review'] = df['review'].apply(lambda x: ' '.join([token for token in nltk.word_tokenize(x) if len(token)>2]))\n",
    "\n",
    "# Remover las palabras de parada\n",
    "reviews = [remove_stopwords(nltk.word_tokenize(review)) for review in df['review']]\n",
    "\n",
    "# Remover los signos de puntuación\n",
    "reviews = [r.translate(str.maketrans('', '', string.punctuation)) for r in pd.Series(reviews)]\n",
    "\n",
    "# Estandarizar todo en minúsculas\n",
    "reviews = [review.lower() for review in reviews]"
   ]
  },
  {
   "cell_type": "markdown",
   "metadata": {},
   "source": [
    "## 5. Frecuencias de Tokens (segunda iteración)"
   ]
  },
  {
   "cell_type": "markdown",
   "metadata": {},
   "source": [
    "Los siguientes dos gráficos de barras muestran el top 20 y 50 de las palabras más comunes en el conjunto de datos, después de remover los tokens menos relevantes.\n",
    "\n",
    "En los gráficos se observan palabras como pedido, cobertura, servicio, tarjeta, efectvo, entre otras. Esta palabras se pueden relacionar con problemas que experimentan los usuarios de la aplicación.\n",
    "\n",
    "Sin embargo, aún se pueden observar palabras poco relevantes como \"dice\", \"solo\" o \"hacer\". Además, algunas palabras con significados cercanos como \"pedido\" y \"pedidos\" también forman parte de las palabras más frecuentes."
   ]
  },
  {
   "cell_type": "code",
   "execution_count": 21,
   "metadata": {
    "scrolled": false
   },
   "outputs": [
    {
     "data": {
      "image/png": "[encoded data removed]",
      "text/plain": [
       "<Figure size 1440x432 with 1 Axes>"
      ]
     },
     "metadata": {
      "needs_background": "light"
     },
     "output_type": "display_data"
    }
   ],
   "source": [
    "plot_top_freq_tokens(reviews)"
   ]
  },
  {
   "cell_type": "code",
   "execution_count": 22,
   "metadata": {},
   "outputs": [
    {
     "data": {
      "image/png": "[encoded data removed]",
      "text/plain": [
       "<Figure size 1440x432 with 1 Axes>"
      ]
     },
     "metadata": {
      "needs_background": "light"
     },
     "output_type": "display_data"
    }
   ],
   "source": [
    "plot_top_freq_tokens(reviews, 50)"
   ]
  },
  {
   "cell_type": "markdown",
   "metadata": {},
   "source": [
    "## 6. Etiquetado gramatical y lematización"
   ]
  },
  {
   "cell_type": "markdown",
   "metadata": {},
   "source": [
    "Esta sección continúa con el preprocesamiento de la información, implementando dos filtros para las palabras del conjunto de datos.\n",
    "\n",
    "En primer lugar, se remueven todas las palabras que no sean sustantivos, adjetivos, verbos o adverbios. Esta tarea se realiza para continuar con la remoción de palabras poco relevantes para el modelo.\n",
    "\n",
    "Posteriormente se realiza la lematización de las palabras. Gracias a este proceso se consigue, por ejemplo, que \"dije\", \"diré\" y \"dijéramos\" sean reemplazadas por \"decir\"; o \"pedido\" y \"pedidos\" se reemplacen por \"pedido\". Es decir, la lematización puede entenderse como un proceso de estandarización de palabras con significados similares a una palabra \"base\" o \"lema\".\n",
    "\n",
    "La implementación de estos filtros se realiza con la librería de procesamiento del lenguaje natural Spacy."
   ]
  },
  {
   "cell_type": "markdown",
   "metadata": {},
   "source": [
    "#### Código"
   ]
  },
  {
   "cell_type": "markdown",
   "metadata": {},
   "source": [
    "Funciones de ayuda para filtrar las palabras por sustantivos, adjetivos, verbos o adverbios, y obtener los lemas de las palabras resultantes."
   ]
  },
  {
   "cell_type": "code",
   "execution_count": 61,
   "metadata": {},
   "outputs": [],
   "source": [
    "def is_noun_adj_verb_adv(pos_tag):\n",
    "    \n",
    "    ''' Verifica si una palabra es un sustantivo, adjetivo, verbo o adverbio  '''\n",
    "    \n",
    "    return pos_tag == 'NOUN' or pos_tag == 'ADJ' or pos_tag == 'VERB' or pos_tag == 'ADV'\n",
    "\n",
    "\n",
    "def get_lemmas(text):\n",
    "    \n",
    "    ''' Retorna los lemas de los sustantivos, adjetivos, verbos y adverbios \n",
    "        contenidos en las opiniones de los usuarios '''\n",
    "    \n",
    "    npl_text = spanish_npl(text)\n",
    "    nouns_adjs = [token.lemma_ for token in npl_text if is_noun_adj_verb_adv(token.pos_)]\n",
    "    return ' '.join(nouns_adjs)"
   ]
  },
  {
   "cell_type": "code",
   "execution_count": 58,
   "metadata": {},
   "outputs": [],
   "source": [
    "# Carga el paquete de procesamiendo del lenguaje natural de español de la librería Spacy\n",
    "spanish_npl = es_core_news_sm.load()"
   ]
  },
  {
   "cell_type": "code",
   "execution_count": 59,
   "metadata": {},
   "outputs": [],
   "source": [
    "# Transforma las opiniones de los usuarios para que contengan solo los lemas de las\n",
    "# palabras más relevantes\n",
    "reviews_lemma = pd.DataFrame(pd.Series(reviews).apply(get_lemmas), columns=['review'])"
   ]
  },
  {
   "cell_type": "markdown",
   "metadata": {},
   "source": [
    "#### Resultado"
   ]
  },
  {
   "cell_type": "markdown",
   "metadata": {},
   "source": [
    "A continuación se muestra un ejemplo de una opinión de usuario después de pasar por el proceso de lematización y etiquetado gramatcal. Se observa que las palabras resultantes son explícitas en cuando a las necesidades del usuario."
   ]
  },
  {
   "cell_type": "code",
   "execution_count": 62,
   "metadata": {},
   "outputs": [
    {
     "data": {
      "text/plain": [
       "'listar actualizar tarjeta app además cobrar servicio dar acepto método pagar tarjeta solo decir verificar luego malo aplicación atención ausentar cuartar vez usar rappi mejor ir comer personalmente'"
      ]
     },
     "execution_count": 62,
     "metadata": {},
     "output_type": "execute_result"
    }
   ],
   "source": [
    "reviews_lemma['review'][1]"
   ]
  },
  {
   "cell_type": "markdown",
   "metadata": {},
   "source": [
    "## 7. Modelamiento"
   ]
  },
  {
   "cell_type": "markdown",
   "metadata": {},
   "source": [
    "En su aplicación para problemas de texto, el método de Asignación Latente de Dirichlet opera bajo un par de suposiciones. En primer lugar, funciona sobre la idea de \"bolsa de palabras\", es decir, asume que los textos son colecciones de palabras sin una estructura gramatical definida. Por otra parte, el modelo asume que los documentos (opiniones, en este caso) que componen un cuerpo de texto (conjunto de opiniones), están compuesto por un número n de temas o categorías, y que cada categoría, a su vez, está compuesta por un conjunto w de palabras. La asignación de las palabras a cada una de las categorías se hace siguiendo un proceso iterativo que considera una distribución de Dirichlet. El número de temas o categorías debe ser definido e ingresado al modelo antes de su ejecución.\n",
    "\n",
    "Descripciones detalladas del modelo se pueden encontrar en [1] y [2]."
   ]
  },
  {
   "cell_type": "markdown",
   "metadata": {},
   "source": [
    "#### Código:"
   ]
  },
  {
   "cell_type": "markdown",
   "metadata": {},
   "source": [
    "El primer paso es la tokenización de las palabras de cada opinión de usuario:"
   ]
  },
  {
   "cell_type": "code",
   "execution_count": 43,
   "metadata": {},
   "outputs": [],
   "source": [
    "tokenized_lemma_reviews = reviews_lemma['review'].apply(lambda x: x.split())"
   ]
  },
  {
   "cell_type": "markdown",
   "metadata": {},
   "source": [
    "Posteriormente las palabras tokenizadas se guardan en una estrucura de datos tipo diccionario de la librería Gensim. Esta estructura asigna un índice númerico para cada palabra del conjunto de datos [3]."
   ]
  },
  {
   "cell_type": "code",
   "execution_count": 44,
   "metadata": {},
   "outputs": [],
   "source": [
    "dictionary = corpora.Dictionary(tokenized_lemma_reviews)"
   ]
  },
  {
   "cell_type": "markdown",
   "metadata": {},
   "source": [
    "A continuación se implementa el último filtro a las opiniones de usuario, omitiendo las palabras que aparecen menos de diez veces (es decir, palabras raras), y las palabras que aparecen en más del 40% de las opiniones. Estas últimas, al ser tan comunes, reduce la capacidad de diferenciar entre las categorías del modelo."
   ]
  },
  {
   "cell_type": "code",
   "execution_count": null,
   "metadata": {},
   "outputs": [],
   "source": [
    "dictionary.filter_extremes(no_below=10, no_above=0.4)\n",
    "dictionary.compactify()"
   ]
  },
  {
   "cell_type": "markdown",
   "metadata": {},
   "source": [
    "El siguiente pasa es transformar el conjunto de opiniones a una bolsa de palabras [4], de acuerdo a lo que requiere el modelo:"
   ]
  },
  {
   "cell_type": "code",
   "execution_count": null,
   "metadata": {},
   "outputs": [],
   "source": [
    "doc_term_matrix = [dictionary.doc2bow(rev) for rev in tokenized_lemma_reviews]"
   ]
  },
  {
   "cell_type": "markdown",
   "metadata": {},
   "source": [
    "Finalmente, todos los elementos calculados son incluído en el modelo para su ejecución. Los parámetros num_topics, chunksize y passes son escogidos de acuerdo a la sintonización del modelo. Un valor de random_state constante permite obterner las mimas distribuciones de probabilidad en diferentes ejecuciones del modelo."
   ]
  },
  {
   "cell_type": "code",
   "execution_count": 45,
   "metadata": {},
   "outputs": [],
   "source": [
    "# Crea un objeto ALD de la librerí Gensim\n",
    "LDA = gensim.models.ldamodel.LdaModel\n",
    "\n",
    "# Construye el modelo ALD\n",
    "lda_model = LDA(corpus=doc_term_matrix, id2word=dictionary, num_topics=5, random_state=100, \n",
    "                chunksize=1000, passes=100)"
   ]
  },
  {
   "cell_type": "markdown",
   "metadata": {},
   "source": [
    "## 8. Resultados y recomendaciones"
   ]
  },
  {
   "cell_type": "markdown",
   "metadata": {},
   "source": [
    "#### Código:"
   ]
  },
  {
   "cell_type": "markdown",
   "metadata": {},
   "source": [
    "Función de ayuda para obtener las primeras n palabras (de acuerdo a su probabilidad) de las categorías obtenidas con el modelo ALD:"
   ]
  },
  {
   "cell_type": "code",
   "execution_count": 121,
   "metadata": {},
   "outputs": [],
   "source": [
    "def get_top_topic_words(number_topics, n=20):\n",
    "    \n",
    "    ''' Retorna los n primeros tokens de la categorías obtenidas con el método ALD  '''\n",
    "    \n",
    "    words = {}\n",
    "    for t in range(number_topics):\n",
    "            topic = lda_model.show_topic(t, topn=n)\n",
    "            topic_words = []\n",
    "            for i in range(n):\n",
    "                word =  topic[i][0]\n",
    "                topic_words.append(word)\n",
    "            topic_name = 'Categoría_{}'.format(t)\n",
    "            words[topic_name] = topic_words\n",
    "    return pd.DataFrame(words)"
   ]
  },
  {
   "cell_type": "markdown",
   "metadata": {},
   "source": [
    "#### Resultados"
   ]
  },
  {
   "cell_type": "markdown",
   "metadata": {},
   "source": [
    "En la tabla siguiente se muestran las 20 primeras palabras de cada categoría obtenida. De acuerdo a los resultados, las categorías pueden clasificarse así:\n",
    "\n",
    "- **Categoría 0 (Pagos):** Incluye palabras como \"pagar\", \"tarjeta\", \"comprar\", \"efectivo\", \"cobrar\", \"crédito\", \"descontar\"\n",
    "\n",
    "\n",
    "- **Categoría 1 (Geografía1/Cobertura):** Incluye palabras como \"cobertura\", \"zona\", \"vivir\", \"llegar\", \"dirección\", \"ciudad\", \"lugar\"\n",
    "\n",
    "\n",
    "- **Categoría 2 (Funcionamiento app):** Incluye palabras como \"aplicación\", \"mensaje\", \"funcionar\", \"promocionar\", \"usar\", \"aparecer\", \"enviar\", \"publicidad\", \"mandar\", \"ingresar\", \"app\"\n",
    "\n",
    "\n",
    "- **Categoría 3 (Demoras en la entrega):** Incluye palabras como \"pedir\", \"llegar\", \"hora\", \"entregar\", \"tiempo\", \"cancelar\", \"demorar\", \"tardar\", \"esperar\", \"repartidor\"\n",
    "\n",
    "\n",
    "- **Categoría 4 (Atención):** Incluye palabras como \"servicio\", \"malo\", \"cliente\", \"soportar\", \"responder\", \"nunca\", \"respuesta\", \"experencia\", \"atención\" "
   ]
  },
  {
   "cell_type": "code",
   "execution_count": 122,
   "metadata": {},
   "outputs": [
    {
     "data": {
      "text/html": [
       "<div>\n",
       "<style scoped>\n",
       "    .dataframe tbody tr th:only-of-type {\n",
       "        vertical-align: middle;\n",
       "    }\n",
       "\n",
       "    .dataframe tbody tr th {\n",
       "        vertical-align: top;\n",
       "    }\n",
       "\n",
       "    .dataframe thead th {\n",
       "        text-align: right;\n",
       "    }\n",
       "</style>\n",
       "<table border=\"1\" class=\"dataframe\">\n",
       "  <thead>\n",
       "    <tr style=\"text-align: right;\">\n",
       "      <th></th>\n",
       "      <th>Categoría_0</th>\n",
       "      <th>Categoría_1</th>\n",
       "      <th>Categoría_2</th>\n",
       "      <th>Categoría_3</th>\n",
       "      <th>Categoría_4</th>\n",
       "    </tr>\n",
       "  </thead>\n",
       "  <tbody>\n",
       "    <tr>\n",
       "      <td>0</td>\n",
       "      <td>pedir</td>\n",
       "      <td>cobertura</td>\n",
       "      <td>aplicación</td>\n",
       "      <td>pedir</td>\n",
       "      <td>servicio</td>\n",
       "    </tr>\n",
       "    <tr>\n",
       "      <td>1</td>\n",
       "      <td>pagar</td>\n",
       "      <td>zona</td>\n",
       "      <td>mensaje</td>\n",
       "      <td>llegar</td>\n",
       "      <td>malo</td>\n",
       "    </tr>\n",
       "    <tr>\n",
       "      <td>2</td>\n",
       "      <td>tarjeta</td>\n",
       "      <td>bueno</td>\n",
       "      <td>funcionar</td>\n",
       "      <td>hora</td>\n",
       "      <td>pedir</td>\n",
       "    </tr>\n",
       "    <tr>\n",
       "      <td>3</td>\n",
       "      <td>hacer</td>\n",
       "      <td>vivir</td>\n",
       "      <td>decir</td>\n",
       "      <td>vez</td>\n",
       "      <td>cliente</td>\n",
       "    </tr>\n",
       "    <tr>\n",
       "      <td>4</td>\n",
       "      <td>comprar</td>\n",
       "      <td>decir</td>\n",
       "      <td>promocionar</td>\n",
       "      <td>entregar</td>\n",
       "      <td>aplicación</td>\n",
       "    </tr>\n",
       "    <tr>\n",
       "      <td>5</td>\n",
       "      <td>efectivo</td>\n",
       "      <td>llegar</td>\n",
       "      <td>usar</td>\n",
       "      <td>tiempo</td>\n",
       "      <td>hacer</td>\n",
       "    </tr>\n",
       "    <tr>\n",
       "      <td>6</td>\n",
       "      <td>cobrar</td>\n",
       "      <td>dirección</td>\n",
       "      <td>aparecer</td>\n",
       "      <td>mal</td>\n",
       "      <td>cobrar</td>\n",
       "    </tr>\n",
       "    <tr>\n",
       "      <td>7</td>\n",
       "      <td>crédito</td>\n",
       "      <td>poner</td>\n",
       "      <td>dejar</td>\n",
       "      <td>cancelar</td>\n",
       "      <td>problema</td>\n",
       "    </tr>\n",
       "    <tr>\n",
       "      <td>8</td>\n",
       "      <td>dejar</td>\n",
       "      <td>ciudad</td>\n",
       "      <td>enviar</td>\n",
       "      <td>comer</td>\n",
       "      <td>dar</td>\n",
       "    </tr>\n",
       "    <tr>\n",
       "      <td>9</td>\n",
       "      <td>usar</td>\n",
       "      <td>solo</td>\n",
       "      <td>publicidad</td>\n",
       "      <td>siempre</td>\n",
       "      <td>soportar</td>\n",
       "    </tr>\n",
       "    <tr>\n",
       "      <td>10</td>\n",
       "      <td>decir</td>\n",
       "      <td>lugar</td>\n",
       "      <td>contar</td>\n",
       "      <td>demorar</td>\n",
       "      <td>responder</td>\n",
       "    </tr>\n",
       "    <tr>\n",
       "      <td>11</td>\n",
       "      <td>vez</td>\n",
       "      <td>estrellar</td>\n",
       "      <td>llegar</td>\n",
       "      <td>tardar</td>\n",
       "      <td>nunca</td>\n",
       "    </tr>\n",
       "    <tr>\n",
       "      <td>12</td>\n",
       "      <td>querer</td>\n",
       "      <td>aplicación</td>\n",
       "      <td>hacer</td>\n",
       "      <td>producto</td>\n",
       "      <td>respuesta</td>\n",
       "    </tr>\n",
       "    <tr>\n",
       "      <td>13</td>\n",
       "      <td>dar</td>\n",
       "      <td>servicio</td>\n",
       "      <td>mandar</td>\n",
       "      <td>esperar</td>\n",
       "      <td>dinero</td>\n",
       "    </tr>\n",
       "    <tr>\n",
       "      <td>14</td>\n",
       "      <td>descontar</td>\n",
       "      <td>malo</td>\n",
       "      <td>ingresar</td>\n",
       "      <td>restaurante</td>\n",
       "      <td>experiencia</td>\n",
       "    </tr>\n",
       "    <tr>\n",
       "      <td>15</td>\n",
       "      <td>poner</td>\n",
       "      <td>gustar</td>\n",
       "      <td>querer</td>\n",
       "      <td>servicio</td>\n",
       "      <td>mal</td>\n",
       "    </tr>\n",
       "    <tr>\n",
       "      <td>16</td>\n",
       "      <td>solo</td>\n",
       "      <td>aun</td>\n",
       "      <td>opción</td>\n",
       "      <td>traer</td>\n",
       "      <td>solucionar</td>\n",
       "    </tr>\n",
       "    <tr>\n",
       "      <td>17</td>\n",
       "      <td>nunca</td>\n",
       "      <td>casar</td>\n",
       "      <td>app</td>\n",
       "      <td>repartidor</td>\n",
       "      <td>atención</td>\n",
       "    </tr>\n",
       "    <tr>\n",
       "      <td>18</td>\n",
       "      <td>verificar</td>\n",
       "      <td>tener</td>\n",
       "      <td>cupón</td>\n",
       "      <td>coser</td>\n",
       "      <td>cancelar</td>\n",
       "    </tr>\n",
       "    <tr>\n",
       "      <td>19</td>\n",
       "      <td>rappicreditos</td>\n",
       "      <td>partir</td>\n",
       "      <td>instalar</td>\n",
       "      <td>hacer</td>\n",
       "      <td>peso</td>\n",
       "    </tr>\n",
       "  </tbody>\n",
       "</table>\n",
       "</div>"
      ],
      "text/plain": [
       "      Categoría_0 Categoría_1  Categoría_2  Categoría_3  Categoría_4\n",
       "0           pedir   cobertura   aplicación        pedir     servicio\n",
       "1           pagar        zona      mensaje       llegar         malo\n",
       "2         tarjeta       bueno    funcionar         hora        pedir\n",
       "3           hacer       vivir        decir          vez      cliente\n",
       "4         comprar       decir  promocionar     entregar   aplicación\n",
       "5        efectivo      llegar         usar       tiempo        hacer\n",
       "6          cobrar   dirección     aparecer          mal       cobrar\n",
       "7         crédito       poner        dejar     cancelar     problema\n",
       "8           dejar      ciudad       enviar        comer          dar\n",
       "9            usar        solo   publicidad      siempre     soportar\n",
       "10          decir       lugar       contar      demorar    responder\n",
       "11            vez   estrellar       llegar       tardar        nunca\n",
       "12         querer  aplicación        hacer     producto    respuesta\n",
       "13            dar    servicio       mandar      esperar       dinero\n",
       "14      descontar        malo     ingresar  restaurante  experiencia\n",
       "15          poner      gustar       querer     servicio          mal\n",
       "16           solo         aun       opción        traer   solucionar\n",
       "17          nunca       casar          app   repartidor     atención\n",
       "18      verificar       tener        cupón        coser     cancelar\n",
       "19  rappicreditos      partir     instalar        hacer         peso"
      ]
     },
     "execution_count": 122,
     "metadata": {},
     "output_type": "execute_result"
    }
   ],
   "source": [
    "result_df = get_top_topic_words(5)\n",
    "result_df"
   ]
  },
  {
   "cell_type": "markdown",
   "metadata": {},
   "source": [
    "#### Recomendaciones"
   ]
  },
  {
   "cell_type": "markdown",
   "metadata": {},
   "source": [
    "Los elementos más sensibles sobre el proceso de sintonización del modelo fueron el filtro por Etiquetado Gramatical y la calibración del parámetro num_topics del objeto LdaModel de Gensim.\n",
    "\n",
    "Para el Etiquetado Gramatical se probaron diferentes librerías de procesamiento del lenguaje natural. En las pruebas se evidenció que la librería NLTK tiene una baja precisión para tareas de Etiquetado en idioma español. Por su parte, la librería StanfordNPL [5] mostró los mejores resultados en términos de precision de los resultados. Sin embargo, los tiempos de ejecución de esta librería fueron aproximadamente 2 órdenes de magnitud superiores a los de la librería Spacy. Esta última biblioteca mostró la mejor relación entre precisión y tiempo de ejecución. \n",
    "\n",
    "El parámetro num_topics tiene un gran efecto sobre los resultados obtenidos. Valores muy grandes o pequeños influyen en la claridad de las palabras que definen las categorías. Se recomienda hacer varias iteraciones con diferentes valores de num_topics y comparar los resultados.\n",
    "\n",
    "Por último, durante el proceso de sintonización del modelo se recomienda ajustar el parámetro \"passes\" a un valor pequeño (dependiento del tamaño del conjunto de datos, puede ser en torno a 10). Esto agiliza el proceso de sintonización ya que el entrenamiento del modelo con un valor pequeño tomará menos tiempo. Una vez se obtegan resultados satisfactorios, este valor se puede incrementar para aumentar la precisión del modelo."
   ]
  },
  {
   "cell_type": "markdown",
   "metadata": {},
   "source": [
    "## 9. Trabajo futuro"
   ]
  },
  {
   "cell_type": "markdown",
   "metadata": {},
   "source": [
    "Algunos trabajos complementarios que surgen a partir de los resultados de este trabajo son:\n",
    "\n",
    "- Análisis de sentimientos para filtrar opiniones positivas que hayan sido calificadas con 1 o 2 estrellas.\n",
    "\n",
    "- Implementación de un modelo de clasificación de texto a partir de los parámetros obtenidos con el modelo ALD, esto es, a partir de las palabras de cada categoría."
   ]
  },
  {
   "cell_type": "markdown",
   "metadata": {},
   "source": [
    "## 10. Referencias"
   ]
  },
  {
   "cell_type": "markdown",
   "metadata": {},
   "source": [
    "[1] http://jmlr.org/papers/volume3/blei03a/blei03a.pdf\n",
    "\n",
    "[2] https://towardsdatascience.com/latent-dirichlet-allocation-lda-9d1cd064ffa2\n",
    "\n",
    "[3] https://radimrehurek.com/gensim/corpora/dictionary.html\n",
    "\n",
    "[4] https://kite.com/python/docs/gensim.corpora.Dictionary.doc2bow\n",
    "\n",
    "[5] https://stanfordnlp.github.io/stanfordnlp/"
   ]
  },
  {
   "cell_type": "markdown",
   "metadata": {},
   "source": [
    "## Autor"
   ]
  },
  {
   "cell_type": "markdown",
   "metadata": {},
   "source": [
    "Cristian Fernando Torres Montenegro\n",
    "\n",
    "LinkedIn: https://www.linkedin.com/in/cristiantomo/"
   ]
  }
 ],
 "metadata": {
  "kernelspec": {
   "display_name": "Python 3",
   "language": "python",
   "name": "python3"
  },
  "language_info": {
   "codemirror_mode": {
    "name": "ipython",
    "version": 3
   },
   "file_extension": ".py",
   "mimetype": "text/x-python",
   "name": "python",
   "nbconvert_exporter": "python",
   "pygments_lexer": "ipython3",
   "version": "3.7.3"
  }
 },
 "nbformat": 4,
 "nbformat_minor": 2
}
